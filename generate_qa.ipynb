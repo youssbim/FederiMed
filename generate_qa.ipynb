{
 "cells": [
  {
   "cell_type": "code",
   "execution_count": null,
   "metadata": {},
   "outputs": [],
   "source": [
    "import pandas as pd\n",
    "import numpy as np\n",
    "\n",
    "df_patients = pd.read_csv(\"C:/Users/Nil Atabey/Desktop/FEDHealth/patients.csv\")\n",
    "num_nodes = 4\n",
    "\n",
    "df_patients[\"node\"] = np.random.randint(1, num_nodes + 1, size=len(df_patients))  \n",
    "for i in range(1, num_nodes + 1):\n",
    "    df_patients[df_patients[\"node\"] == i].to_csv(f\"node_{i}_patients.csv\", index=False)\n"
   ]
  },
  {
   "cell_type": "code",
   "execution_count": null,
   "metadata": {},
   "outputs": [],
   "source": [
    "df_diagnoses = pd.read_csv(\"C:/Users/Nil Atabey/Desktop/FEDHealth/conditions.csv\") \n",
    "df_medications = pd.read_csv(\"C:/Users/Nil Atabey/Desktop/FEDHealth/medications.csv\") "
   ]
  },
  {
   "cell_type": "code",
   "execution_count": 4,
   "metadata": {},
   "outputs": [],
   "source": [
    "import pandas as pd\n",
    "\n",
    "def generate_qa(patients_file, output_file):\n",
    "    df_patients = pd.read_csv(patients_file)\n",
    "    df_qa = []\n",
    "\n",
    "    for _, row in df_patients.iterrows():\n",
    "        patient_id = row[\"Id\"]\n",
    "        diagnoses = df_diagnoses[df_diagnoses[\"PATIENT\"] == patient_id]\n",
    "        medications = df_medications[df_medications[\"PATIENT\"] == patient_id]\n",
    "\n",
    "        for _, diag in diagnoses.iterrows():\n",
    "            question = f\"The patient {patient_id}, diagnosed with {diag['DESCRIPTION']}, what treatment did they receive?\"\n",
    "            therapy = medications[\"DESCRIPTION\"].tolist()\n",
    "            answer = \", \".join(therapy) if therapy else \"No recorded therapy.\"\n",
    "            df_qa.append({\"question\": question, \"answer\": answer})\n",
    "\n",
    "    pd.DataFrame(df_qa).to_csv(output_file, index=False)\n",
    "\n",
    "for i in range(1, num_nodes + 1):\n",
    "    generate_qa(f\"node_{i}_patients.csv\", f\"node_{i}_qa.csv\")\n"
   ]
  }
 ],
 "metadata": {
  "kernelspec": {
   "display_name": "eblhackathon",
   "language": "python",
   "name": "python3"
  },
  "language_info": {
   "codemirror_mode": {
    "name": "ipython",
    "version": 3
   },
   "file_extension": ".py",
   "mimetype": "text/x-python",
   "name": "python",
   "nbconvert_exporter": "python",
   "pygments_lexer": "ipython3",
   "version": "3.9.21"
  }
 },
 "nbformat": 4,
 "nbformat_minor": 2
}
